{
 "cells": [
  {
   "cell_type": "code",
   "execution_count": null,
   "id": "dae9f993-1720-4890-8957-a7a2147a7d53",
   "metadata": {},
   "outputs": [],
   "source": [
    "!pip install pandas"
   ]
  },
  {
   "cell_type": "code",
   "execution_count": null,
   "id": "dc369eec-f516-4957-8200-35c96494a982",
   "metadata": {
    "scrolled": true
   },
   "outputs": [],
   "source": [
    "!pip install seaborn"
   ]
  },
  {
   "cell_type": "code",
   "execution_count": null,
   "id": "eee7b555-b05a-4250-bb16-7fb67c824085",
   "metadata": {},
   "outputs": [],
   "source": [
    "import pandas as pd\n",
    "import numpy as np\n",
    "import matplotlib.pyplot as plt\n",
    "import seaborn as sns"
   ]
  },
  {
   "cell_type": "code",
   "execution_count": null,
   "id": "95950577",
   "metadata": {},
   "outputs": [],
   "source": [
    "# Creating data using dictionary method\n",
    "data = {\"id\": [0, 1, 2, 3, 4, 5, 6, 7, 8, 9, 10, 11],\n",
    "        \"country\": [\"Albania\", \"Bulgaria\", \"Iran\", \"Ukraine\", \"South Africa\", \"Ukraine\", \"Austria\", \"Croatia\", \"Denmark\", \"Portugal\", \"Uruguay\", \"Thailand\"],\n",
    "        \"lifeexp\": [77.6, 75, 75.8, 71.9, 61.8, 71.9, 81.4, 77.3, 80.7, 80.8, 77.1, 77.6],\n",
    "        \"unemployment\": [6.09, 3.24, 2.11, 1.53, 7.52, 1.53, 1.43, 5.53, 1.36, 4.37, 0.16, 0.06],\n",
    "        \"happiness\": [\"Low\", \"Low\", \"Low\", \"Low\", \"Low\", \"Low\", \"High\", \"High\", \"High\", \"High\", \"High\", \"High\",]\n",
    "       }"
   ]
  },
  {
   "cell_type": "code",
   "execution_count": null,
   "id": "43d35a58-c73c-4a4b-87b8-ba79ea1c0ada",
   "metadata": {},
   "outputs": [],
   "source": [
    "# Create a new Data Frame with the World Happiness Report data\n",
    "world_happiness_data = pd.DataFrame(data, index = None)"
   ]
  },
  {
   "cell_type": "code",
   "execution_count": null,
   "id": "2f84b1ba-6ffe-4197-9693-c38a266fec4d",
   "metadata": {},
   "outputs": [],
   "source": [
    "world_happiness_data.shape"
   ]
  },
  {
   "cell_type": "code",
   "execution_count": null,
   "id": "a9c65e0b-e7b7-4804-812f-5c9815336a1f",
   "metadata": {},
   "outputs": [],
   "source": [
    "world_happiness_data.dtypes"
   ]
  },
  {
   "cell_type": "code",
   "execution_count": null,
   "id": "3825952e-1620-4e67-9c99-592d108cb7c7",
   "metadata": {},
   "outputs": [],
   "source": [
    "world_happiness_data.value_counts()"
   ]
  },
  {
   "cell_type": "code",
   "execution_count": null,
   "id": "30717ebf-fda7-4c08-ac49-462ff3722929",
   "metadata": {},
   "outputs": [],
   "source": [
    "world_happiness_data.describe()"
   ]
  },
  {
   "cell_type": "code",
   "execution_count": null,
   "id": "dea7cd51-67d0-482b-8c52-1b293b030c37",
   "metadata": {},
   "outputs": [],
   "source": [
    "world_happiness_data['lifeexp'].plot( kind = \"box\", title = \"Life Expectancy\")\n",
    "plt.savefig('lifeexp_boxplot.png') \n",
    "plt.show()"
   ]
  },
  {
   "cell_type": "code",
   "execution_count": null,
   "id": "0d38c882-1f2a-4c5c-b14d-f483df424674",
   "metadata": {},
   "outputs": [],
   "source": [
    "world_happiness_data['unemployment'].plot(kind = \"box\", title = \"Unemployment Rate\")\n",
    "plt.savefig('unemployment_boxplot.png') \n",
    "plt.show()"
   ]
  },
  {
   "cell_type": "code",
   "execution_count": null,
   "id": "f2d5c3aa-1f85-4e5d-930a-211bafb2867d",
   "metadata": {},
   "outputs": [],
   "source": [
    "plt.hist(world_happiness_data['lifeexp'], bins = 10, edgecolor=\"white\")\n",
    "plt.yticks(range(0, 6))\n",
    "plt.xticks([65, 70, 75, 80]) \n",
    "plt.title(\"lifeexp\")\n",
    "plt.savefig('lifeexp_hist.png') \n",
    "plt.show()"
   ]
  },
  {
   "cell_type": "code",
   "execution_count": null,
   "id": "dc9d6684-5297-4ce4-9c83-94c8990904fe",
   "metadata": {},
   "outputs": [],
   "source": [
    "plt.hist(world_happiness_data['unemployment'], bins = 8,  edgecolor = \"white\")\n",
    "plt.yticks(range(0,6))\n",
    "plt.xticks([0, 2, 4, 6])\n",
    "plt.title(\"unemployment\")\n",
    "plt.savefig('unemployment_hist.png')\n",
    "plt.show()"
   ]
  },
  {
   "cell_type": "code",
   "execution_count": null,
   "id": "68bdcc92-0475-44e5-afdc-f6971893516c",
   "metadata": {},
   "outputs": [],
   "source": [
    "high = world_happiness_data[world_happiness_data['happiness'] == 'High']['lifeexp']\n",
    "low = world_happiness_data[world_happiness_data['happiness'] == 'Low']['lifeexp']\n",
    "\n",
    "plt.hist([high, low], bins=7, label=['High', 'Low'], color=['#F2A71B', '#BD2A2E'], edgecolor='white')\n",
    "plt.xlabel('Life Expectancy')\n",
    "plt.ylabel('Frequency')\n",
    "plt.title('Life Expectancy by Happiness Level') \n",
    "plt.yticks(range(0,4))\n",
    "plt.xticks([65, 70, 75, 80]) \n",
    "plt.legend()\n",
    "plt.savefig('lifeexp_happiness.png')\n",
    "plt.show()\n"
   ]
  },
  {
   "cell_type": "code",
   "execution_count": null,
   "id": "6a1a44cd-10ef-4f8b-ae76-220853d7c82e",
   "metadata": {},
   "outputs": [],
   "source": [
    "high_unemp = world_happiness_data[world_happiness_data['happiness'] == 'High']['unemployment']\n",
    "low_umemp = world_happiness_data[world_happiness_data['happiness'] == 'Low']['unemployment']\n",
    "\n",
    "plt.hist([high_unemp, low_umemp], bins=7, label=['High', 'Low'], color=['#F2A71B', '#BD2A2E'], edgecolor='white')\n",
    "plt.xlabel('Unemployment Rate')\n",
    "plt.ylabel('Frequency')\n",
    "plt.title('Unemployment Rate by Happiness Level') \n",
    "plt.yticks(range(0,4))\n",
    "plt.xticks([0, 2, 4, 6]) \n",
    "plt.legend()\n",
    "plt.savefig('unemp_happiness.png')\n",
    "plt.show()"
   ]
  },
  {
   "cell_type": "code",
   "execution_count": null,
   "id": "93c2392b-80e2-4dad-9544-71746d448648",
   "metadata": {},
   "outputs": [],
   "source": [
    "# Histogram of life expectancy by happiness class\n",
    "# sns.histplot(data=world_happiness_data, x='lifeexp', hue='happiness', bins=10, palette={'High': 'blue', 'Low': 'red'}, multiple='dodge')\n",
    "# plt.title('Life Expectancy by Happiness Level')\n",
    "# plt.xlabel('Life Expectancy')\n",
    "# plt.ylabel('Number of Countries')\n",
    "# plt.show()"
   ]
  },
  {
   "cell_type": "code",
   "execution_count": null,
   "id": "aa8ce95d-e7ba-43ef-a7d1-a0ed0ba0d69f",
   "metadata": {},
   "outputs": [],
   "source": [
    "# Select certain columns\n",
    "certain_columns_df = world_happiness_data.loc[:, ['id', 'lifeexp', 'unemployment', 'happiness']]"
   ]
  },
  {
   "cell_type": "code",
   "execution_count": null,
   "id": "5b9dd05c-083c-4d2e-972c-0478c42dc7c1",
   "metadata": {},
   "outputs": [],
   "source": [
    "certain_columns_df "
   ]
  },
  {
   "cell_type": "code",
   "execution_count": null,
   "id": "73dbd67a-28d2-4416-b2aa-4dea75a9680f",
   "metadata": {},
   "outputs": [],
   "source": []
  }
 ],
 "metadata": {
  "kernelspec": {
   "display_name": "Python 3 (ipykernel)",
   "language": "python",
   "name": "python3"
  },
  "language_info": {
   "codemirror_mode": {
    "name": "ipython",
    "version": 3
   },
   "file_extension": ".py",
   "mimetype": "text/x-python",
   "name": "python",
   "nbconvert_exporter": "python",
   "pygments_lexer": "ipython3",
   "version": "3.11.4"
  }
 },
 "nbformat": 4,
 "nbformat_minor": 5
}
