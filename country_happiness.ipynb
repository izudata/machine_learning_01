{
 "cells": [
  {
   "cell_type": "code",
   "execution_count": null,
   "id": "dae9f993-1720-4890-8957-a7a2147a7d53",
   "metadata": {},
   "outputs": [],
   "source": [
    "# !pip install pandas"
   ]
  },
  {
   "cell_type": "code",
   "execution_count": null,
   "id": "dc369eec-f516-4957-8200-35c96494a982",
   "metadata": {
    "scrolled": true
   },
   "outputs": [],
   "source": [
    "# !pip install seaborn"
   ]
  },
  {
   "cell_type": "code",
   "execution_count": null,
   "id": "eee7b555-b05a-4250-bb16-7fb67c824085",
   "metadata": {},
   "outputs": [],
   "source": [
    "# Import Python libraries for data manipulation and visualization\n",
    "import pandas as pd\n",
    "import numpy as np\n",
    "import matplotlib.pyplot as plt\n",
    "import seaborn as sns"
   ]
  },
  {
   "cell_type": "code",
   "execution_count": null,
   "id": "95950577",
   "metadata": {},
   "outputs": [],
   "source": [
    "# Creating data using dictionary method\n",
    "data = {\"id\": [0, 1, 2, 3, 4, 5, 6, 7, 8, 9, 10, 11],\n",
    "        \"country\": [\"Albania\", \"Bulgaria\", \"Iran\", \"Ukraine\", \"South Africa\", \"Ukraine\", \"Austria\", \"Croatia\", \"Denmark\", \"Portugal\", \"Uruguay\", \"Thailand\"],\n",
    "        \"lifeexp\": [77.6, 75, 75.8, 71.9, 61.8, 71.9, 81.4, 77.3, 80.7, 80.8, 77.1, 77.6],\n",
    "        \"unemployment\": [6.09, 3.24, 2.11, 1.53, 7.52, 1.53, 1.43, 5.53, 1.36, 4.37, 0.16, 0.06],\n",
    "        \"happiness\": [\"Low\", \"Low\", \"Low\", \"Low\", \"Low\", \"Low\", \"High\", \"High\", \"High\", \"High\", \"High\", \"High\",]\n",
    "       }"
   ]
  },
  {
   "cell_type": "code",
   "execution_count": null,
   "id": "43d35a58-c73c-4a4b-87b8-ba79ea1c0ada",
   "metadata": {},
   "outputs": [],
   "source": [
    "# Create a new Data Frame with the World Happiness Report data\n",
    "world_happiness_data = pd.DataFrame(data, index = None)"
   ]
  },
  {
   "cell_type": "code",
   "execution_count": null,
   "id": "2f84b1ba-6ffe-4197-9693-c38a266fec4d",
   "metadata": {},
   "outputs": [],
   "source": [
    "world_happiness_data.shape"
   ]
  },
  {
   "cell_type": "code",
   "execution_count": null,
   "id": "a9c65e0b-e7b7-4804-812f-5c9815336a1f",
   "metadata": {},
   "outputs": [],
   "source": [
    "world_happiness_data.dtypes"
   ]
  },
  {
   "cell_type": "code",
   "execution_count": null,
   "id": "3825952e-1620-4e67-9c99-592d108cb7c7",
   "metadata": {},
   "outputs": [],
   "source": [
    "world_happiness_data.value_counts()"
   ]
  },
  {
   "cell_type": "code",
   "execution_count": null,
   "id": "30717ebf-fda7-4c08-ac49-462ff3722929",
   "metadata": {},
   "outputs": [],
   "source": [
    "world_happiness_data.describe()"
   ]
  },
  {
   "cell_type": "code",
   "execution_count": null,
   "id": "dea7cd51-67d0-482b-8c52-1b293b030c37",
   "metadata": {},
   "outputs": [],
   "source": [
    "world_happiness_data['lifeexp'].plot( kind = \"box\", title = \"Life Expectancy\")\n",
    "plt.savefig('lifeexp_boxplot.png') \n",
    "plt.show()"
   ]
  },
  {
   "cell_type": "code",
   "execution_count": null,
   "id": "0d38c882-1f2a-4c5c-b14d-f483df424674",
   "metadata": {},
   "outputs": [],
   "source": [
    "world_happiness_data['unemployment'].plot(kind = \"box\", title = \"Unemployment Rate\")\n",
    "plt.savefig('unemployment_boxplot.png') \n",
    "plt.show()"
   ]
  },
  {
   "cell_type": "code",
   "execution_count": null,
   "id": "f2d5c3aa-1f85-4e5d-930a-211bafb2867d",
   "metadata": {},
   "outputs": [],
   "source": [
    "plt.hist(world_happiness_data['lifeexp'], bins = 10, edgecolor=\"white\")\n",
    "plt.yticks(range(0, 6))\n",
    "plt.xticks([65, 70, 75, 80]) \n",
    "plt.title(\"lifeexp\")\n",
    "plt.savefig('lifeexp_hist.png') \n",
    "plt.show()"
   ]
  },
  {
   "cell_type": "code",
   "execution_count": null,
   "id": "dc9d6684-5297-4ce4-9c83-94c8990904fe",
   "metadata": {},
   "outputs": [],
   "source": [
    "plt.hist(world_happiness_data['unemployment'], bins = 8,  edgecolor = \"white\")\n",
    "plt.yticks(range(0,6))\n",
    "plt.xticks([0, 2, 4, 6])\n",
    "plt.title(\"unemployment\")\n",
    "plt.savefig('unemployment_hist.png')\n",
    "plt.show()"
   ]
  },
  {
   "cell_type": "code",
   "execution_count": null,
   "id": "68bdcc92-0475-44e5-afdc-f6971893516c",
   "metadata": {},
   "outputs": [],
   "source": [
    "high = world_happiness_data[world_happiness_data['happiness'] == 'High']['lifeexp']\n",
    "low = world_happiness_data[world_happiness_data['happiness'] == 'Low']['lifeexp']\n",
    "\n",
    "plt.hist([high, low], bins=7, label=['High', 'Low'], color=['#F2A71B', '#BD2A2E'], edgecolor='white')\n",
    "plt.xlabel('Life Expectancy')\n",
    "plt.ylabel('Frequency')\n",
    "plt.title('Life Expectancy by Happiness Level') \n",
    "plt.yticks(range(0,4))\n",
    "plt.xticks([65, 70, 75, 80]) \n",
    "plt.legend()\n",
    "plt.savefig('lifeexp_happiness.png')\n",
    "plt.show()\n"
   ]
  },
  {
   "cell_type": "code",
   "execution_count": null,
   "id": "6a1a44cd-10ef-4f8b-ae76-220853d7c82e",
   "metadata": {},
   "outputs": [],
   "source": [
    "high_unemp = world_happiness_data[world_happiness_data['happiness'] == 'High']['unemployment']\n",
    "low_umemp = world_happiness_data[world_happiness_data['happiness'] == 'Low']['unemployment']\n",
    "\n",
    "plt.hist([high_unemp, low_umemp], bins=7, label=['High', 'Low'], color=['#F2A71B', '#BD2A2E'], edgecolor='white')\n",
    "plt.xlabel('Unemployment Rate')\n",
    "plt.ylabel('Frequency')\n",
    "plt.title('Unemployment Rate by Happiness Level') \n",
    "plt.yticks(range(0,4))\n",
    "plt.xticks([0, 2, 4, 6]) \n",
    "plt.legend()\n",
    "plt.savefig('unemp_happiness.png')\n",
    "plt.show()"
   ]
  },
  {
   "cell_type": "code",
   "execution_count": null,
   "id": "93c2392b-80e2-4dad-9544-71746d448648",
   "metadata": {},
   "outputs": [],
   "source": [
    "# Histogram of life expectancy by happiness class\n",
    "# sns.histplot(data=world_happiness_data, x='lifeexp', hue='happiness', bins=10, palette={'High': 'blue', 'Low': 'red'}, multiple='dodge')\n",
    "# plt.title('Life Expectancy by Happiness Level')\n",
    "# plt.xlabel('Life Expectancy')\n",
    "# plt.ylabel('Number of Countries')\n",
    "# plt.show()"
   ]
  },
  {
   "cell_type": "code",
   "execution_count": null,
   "id": "aa8ce95d-e7ba-43ef-a7d1-a0ed0ba0d69f",
   "metadata": {},
   "outputs": [],
   "source": [
    "# Select certain columns\n",
    "certain_columns_df = world_happiness_data.loc[:, ['id', 'lifeexp', 'unemployment', 'happiness']]"
   ]
  },
  {
   "cell_type": "code",
   "execution_count": null,
   "id": "5b9dd05c-083c-4d2e-972c-0478c42dc7c1",
   "metadata": {},
   "outputs": [],
   "source": [
    "certain_columns_df "
   ]
  },
  {
   "cell_type": "code",
   "execution_count": null,
   "id": "ebf0514a-ad6a-4d6a-acef-d211fa0f7697",
   "metadata": {
    "scrolled": true
   },
   "outputs": [],
   "source": [
    "# Import scikit-learn \n",
    "# !pip install scikit-learn "
   ]
  },
  {
   "cell_type": "code",
   "execution_count": null,
   "id": "73dbd67a-28d2-4416-b2aa-4dea75a9680f",
   "metadata": {},
   "outputs": [],
   "source": [
    "# Import the Python machine learning libraries\n",
    "from sklearn.model_selection import train_test_split\n",
    "from sklearn.tree import DecisionTreeClassifier\n",
    "from sklearn.metrics import accuracy_score"
   ]
  },
  {
   "cell_type": "code",
   "execution_count": null,
   "id": "b3403b29-9da5-4561-a981-5c36b887636b",
   "metadata": {},
   "outputs": [],
   "source": [
    "# !pip install graphviz"
   ]
  },
  {
   "cell_type": "code",
   "execution_count": null,
   "id": "d3c19b25-a59e-41b7-b4aa-e181e20e9666",
   "metadata": {},
   "outputs": [],
   "source": [
    "import graphviz \n",
    "from sklearn import tree"
   ]
  },
  {
   "cell_type": "code",
   "execution_count": null,
   "id": "74c0cb43-aacb-487f-9864-34822e108948",
   "metadata": {},
   "outputs": [],
   "source": [
    "certain_columns_df.head()"
   ]
  },
  {
   "cell_type": "code",
   "execution_count": null,
   "id": "6be464fa-b7e4-4f0f-b544-3be71b35d6e4",
   "metadata": {},
   "outputs": [],
   "source": [
    "certain_columns_df.describe()"
   ]
  },
  {
   "cell_type": "code",
   "execution_count": null,
   "id": "5bc37f57-3868-477a-a9b7-8ab17d00a4bf",
   "metadata": {},
   "outputs": [],
   "source": [
    "certain_columns_df.shape"
   ]
  },
  {
   "cell_type": "code",
   "execution_count": null,
   "id": "ecdaa86d-d77f-466b-bd96-e86861c2c8d2",
   "metadata": {},
   "outputs": [],
   "source": [
    "from functions import classComparePlot, boxPlotAll, histPlotAll, correlationMatrix, scatterMatrix, appendEqualCountsClass, logisticRegressionSummary, decisionTreeSummary, linearRegressionSummary, viewDecisionTree, find_outliers\n"
   ]
  },
  {
   "cell_type": "code",
   "execution_count": null,
   "id": "7eec5427-7796-455b-b13b-23fa68b74683",
   "metadata": {},
   "outputs": [],
   "source": [
    "import os\n",
    "os.getcwd()"
   ]
  },
  {
   "cell_type": "code",
   "execution_count": null,
   "id": "de39a4ed-c6eb-4b4d-b6d1-7d4a6825a6b7",
   "metadata": {},
   "outputs": [],
   "source": [
    "!ls"
   ]
  },
  {
   "cell_type": "markdown",
   "id": "1bd91cb5-9a5f-4693-8477-0d57ca9f893c",
   "metadata": {},
   "source": [
    "Visualise"
   ]
  },
  {
   "cell_type": "code",
   "execution_count": null,
   "id": "60155c28-c416-42e9-bd29-38bdba8c4fc5",
   "metadata": {},
   "outputs": [],
   "source": [
    "# Plot histogram for life expectancy and unemployment rate\n",
    "histPlotAll(certain_columns_df[['lifeexp', 'unemployment']])"
   ]
  },
  {
   "cell_type": "code",
   "execution_count": null,
   "id": "e3b0cb93-a480-45f1-9fb3-c7e10cda7f64",
   "metadata": {},
   "outputs": [],
   "source": [
    "# Plot box plot \n",
    "boxPlotAll(certain_columns_df[['lifeexp', 'unemployment']])"
   ]
  },
  {
   "cell_type": "code",
   "execution_count": null,
   "id": "c630c611-5ac9-46a9-b90a-905d607b3e09",
   "metadata": {},
   "outputs": [],
   "source": [
    "classComparePlot(certain_columns_df[['happiness', 'lifeexp', 'unemployment']], 'happiness', plotType='hist')"
   ]
  },
  {
   "cell_type": "markdown",
   "id": "8b32deea-99e2-4836-b289-b9736d47118f",
   "metadata": {},
   "source": [
    "## Prepare the data for machine learning"
   ]
  },
  {
   "cell_type": "markdown",
   "id": "646b679d-5431-4d23-b7a7-44993ba552c7",
   "metadata": {},
   "source": [
    "#### Select Features and Split into input and target features"
   ]
  },
  {
   "cell_type": "code",
   "execution_count": null,
   "id": "6a417ff0-eabf-4ab9-acb6-34f0d9cb3e2d",
   "metadata": {},
   "outputs": [],
   "source": [
    "# label - what we can to predict (small letter y)\n",
    "y = certain_columns_df['happiness']"
   ]
  },
  {
   "cell_type": "code",
   "execution_count": null,
   "id": "0dd127c2-ec3e-4de9-bc3d-bffea3c37b7f",
   "metadata": {},
   "outputs": [],
   "source": [
    "# feature - what will help us make prediction (capital letter X)\n",
    "X = certain_columns_df[['lifeexp', 'unemployment']]"
   ]
  },
  {
   "cell_type": "code",
   "execution_count": null,
   "id": "9a716e5a-9315-41e0-9747-87d4ba268bc9",
   "metadata": {},
   "outputs": [],
   "source": [
    "# Inspect y\n",
    "y.head()"
   ]
  },
  {
   "cell_type": "code",
   "execution_count": null,
   "id": "1a56bde5-d25c-4733-9d11-b9f8e31e9998",
   "metadata": {},
   "outputs": [],
   "source": [
    "X.head()"
   ]
  },
  {
   "cell_type": "markdown",
   "id": "e9aefb15-f799-4d75-8b1b-f9eaa9ad2704",
   "metadata": {},
   "source": [
    "## Build the model"
   ]
  },
  {
   "cell_type": "markdown",
   "id": "752885c2-b359-42eb-b348-53d56207f018",
   "metadata": {},
   "source": [
    "### Split data into training and test both the label and features"
   ]
  },
  {
   "cell_type": "markdown",
   "id": "98a5ab22-0d8e-41fd-9520-8c530dae7d1a",
   "metadata": {},
   "source": [
    "keep 1/3 (0.33) of the y and X for testing"
   ]
  },
  {
   "cell_type": "code",
   "execution_count": null,
   "id": "1fd4e6dc-1f7a-4c78-a468-8bd3d4874515",
   "metadata": {},
   "outputs": [],
   "source": [
    "test_size = 0.33\n",
    "# To ensure we get same result, we set the seed\n",
    "seed = 20250513 \n",
    "\n",
    "# Split the datasets using train_test_split() function to create four datasets X_train, X_test, y_train, y_test\n",
    "X_train, X_test, y_train, y_test = train_test_split(X, y, test_size=test_size, random_state=seed )"
   ]
  },
  {
   "cell_type": "code",
   "execution_count": null,
   "id": "d51a3e44-2ff1-41a2-a17c-c6193c780cc8",
   "metadata": {},
   "outputs": [],
   "source": [
    "# Input train dataset\n",
    "X_train"
   ]
  },
  {
   "cell_type": "code",
   "execution_count": null,
   "id": "171bf213-dae1-4979-905f-77f102a2ca23",
   "metadata": {},
   "outputs": [],
   "source": [
    "# Input test dataset\n",
    "X_test"
   ]
  },
  {
   "cell_type": "code",
   "execution_count": null,
   "id": "6c0ab91d-2107-4a58-a99a-f965d84f5a48",
   "metadata": {},
   "outputs": [],
   "source": [
    "# Target train dataset\n",
    "y_train"
   ]
  },
  {
   "cell_type": "code",
   "execution_count": null,
   "id": "4e4d82f9-88ad-44e4-98ef-d98ebfdfe6da",
   "metadata": {},
   "outputs": [],
   "source": [
    "# Target test dataset\n",
    "y_test"
   ]
  },
  {
   "cell_type": "markdown",
   "id": "57aab2f5-23ed-45d0-862b-72c973503ed7",
   "metadata": {},
   "source": [
    "### Select an algorithm"
   ]
  },
  {
   "cell_type": "markdown",
   "id": "c38dd8d4-978f-40d1-b6cb-c129f3f17136",
   "metadata": {},
   "source": [
    "#### We will be DecisionTree algorithm to create a model"
   ]
  },
  {
   "cell_type": "code",
   "execution_count": null,
   "id": "2ea3f80e-dec9-4f2f-adb9-bd57341bceb0",
   "metadata": {},
   "outputs": [],
   "source": [
    "# Create a new model (An empty untrained model)\n",
    "model = DecisionTreeClassifier(max_depth=2, random_state=42)"
   ]
  },
  {
   "cell_type": "markdown",
   "id": "7e42eee9-6773-486c-9982-01e4d98d7883",
   "metadata": {},
   "source": [
    "### Train the model (Same as saying, Fit the model to the data) - exploring the data to identify patterns"
   ]
  },
  {
   "cell_type": "code",
   "execution_count": null,
   "id": "fd2df234-6c18-4e91-b5e3-3892bd59a4ec",
   "metadata": {},
   "outputs": [],
   "source": [
    "# Train the model by passing input and target features - features and label\n",
    "model.fit(X_train, y_train)"
   ]
  },
  {
   "cell_type": "markdown",
   "id": "a0fd413e-847b-401b-a27b-6f7529944065",
   "metadata": {},
   "source": [
    "### Check the model - how good the model is - accuracy..."
   ]
  },
  {
   "cell_type": "code",
   "execution_count": null,
   "id": "a8241772-8809-4e3c-b5aa-ebad4ba47537",
   "metadata": {},
   "outputs": [],
   "source": [
    "# Check how well the model can make predictions using first - the train datasets - given X_train\n",
    "predictions = model.predict(X_train)\n",
    "print(accuracy_score(y_train, predictions))"
   ]
  },
  {
   "cell_type": "markdown",
   "id": "7500fe8c-5011-40de-8d93-e710ba3d7ddd",
   "metadata": {},
   "source": [
    "## Evaluate the model - using test datasets"
   ]
  },
  {
   "cell_type": "code",
   "execution_count": null,
   "id": "5246615f-fb68-4824-9885-fbe441de3cd2",
   "metadata": {},
   "outputs": [],
   "source": [
    "# Given X_train, make predictions\n",
    "predictions = model.predict(X_test)"
   ]
  },
  {
   "cell_type": "code",
   "execution_count": null,
   "id": "d0cbed6b-b48e-4312-bf9b-5d885385144c",
   "metadata": {},
   "outputs": [],
   "source": [
    "# Check the predictions\n",
    "predictions "
   ]
  },
  {
   "cell_type": "code",
   "execution_count": null,
   "id": "f7788b48-b4a6-4628-8c94-34acaf3b93e7",
   "metadata": {},
   "outputs": [],
   "source": [
    "# Evalute the accuracy of the model by comparing actual and predictions\n",
    "print(accuracy_score(y_test, predictions))"
   ]
  },
  {
   "cell_type": "code",
   "execution_count": null,
   "id": "bf818ef7-e768-4959-ab9e-73baec26ee48",
   "metadata": {},
   "outputs": [],
   "source": [
    "# Create a new DataFrame by copying the X_test  dateset (input feaures)  \n",
    "df = X_test.copy()\n",
    "\n",
    "# Create a new column 'Actual' the actual predictions y_test\n",
    "df['Actual'] = y_test\n",
    "\n",
    "# Create a new column in the dataset 'Predictions' what the model predictedabs\n",
    "df['Predictions'] = predictions"
   ]
  },
  {
   "cell_type": "code",
   "execution_count": null,
   "id": "99bb70b7-8644-492e-8f69-be26484c63f0",
   "metadata": {},
   "outputs": [],
   "source": [
    "# Check the comparison as a table\n",
    "df"
   ]
  },
  {
   "cell_type": "markdown",
   "id": "bdb2b4da-d8dd-4077-aa3b-57cc81ab6b71",
   "metadata": {},
   "source": [
    "### Examine the decision Tree the Sklearn has built for this model"
   ]
  },
  {
   "cell_type": "code",
   "execution_count": null,
   "id": "3bf12763-b219-46a0-bcc7-ada9db39b3e3",
   "metadata": {},
   "outputs": [],
   "source": [
    "viewDecisionTree(model, X.columns)"
   ]
  },
  {
   "cell_type": "code",
   "execution_count": null,
   "id": "ed07e8d1-5519-41d2-9591-ba1357cb9c1c",
   "metadata": {},
   "outputs": [],
   "source": []
  }
 ],
 "metadata": {
  "kernelspec": {
   "display_name": "Python 3 (ipykernel)",
   "language": "python",
   "name": "python3"
  },
  "language_info": {
   "codemirror_mode": {
    "name": "ipython",
    "version": 3
   },
   "file_extension": ".py",
   "mimetype": "text/x-python",
   "name": "python",
   "nbconvert_exporter": "python",
   "pygments_lexer": "ipython3",
   "version": "3.11.4"
  }
 },
 "nbformat": 4,
 "nbformat_minor": 5
}
