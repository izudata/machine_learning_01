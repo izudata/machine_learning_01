{
 "cells": [
  {
   "cell_type": "code",
   "execution_count": null,
   "id": "dae9f993-1720-4890-8957-a7a2147a7d53",
   "metadata": {},
   "outputs": [],
   "source": [
    "!pip install pandas"
   ]
  },
  {
   "cell_type": "code",
   "execution_count": null,
   "id": "dc369eec-f516-4957-8200-35c96494a982",
   "metadata": {
    "scrolled": true
   },
   "outputs": [],
   "source": [
    "!pip install seaborn"
   ]
  },
  {
   "cell_type": "code",
   "execution_count": null,
   "id": "eee7b555-b05a-4250-bb16-7fb67c824085",
   "metadata": {},
   "outputs": [],
   "source": [
    "import pandas as pd\n",
    "import numpy as np\n",
    "import matplotlib.pyplot as plt\n",
    "import seaborn as sns"
   ]
  },
  {
   "cell_type": "code",
   "execution_count": null,
   "id": "95950577",
   "metadata": {},
   "outputs": [],
   "source": [
    "# Creating data using dictionary method\n",
    "data = {\"id\": [0, 1, 2, 3, 4, 5, 6, 7, 8, 9, 10, 11],\n",
    "        \"country\": [\"Albania\", \"Bulgaria\", \"Iran\", \"Ukraine\", \"South Africa\", \"Ukraine\", \"Austria\", \"Croatia\", \"Denmark\", \"Portugal\", \"Uruguay\", \"Thailand\"],\n",
    "        \"lifeexp\": [6.09, 3.24, 2.11, 1.53, 7.52, 1.53, 1.43, 5.53, 1.36, 4.37, 0.16, 0.06],\n",
    "        \"happiness\": [\"Low\", \"Low\", \"Low\", \"Low\", \"Low\", \"Low\", \"High\", \"High\", \"High\", \"High\", \"High\", \"High\",]\n",
    "       }"
   ]
  },
  {
   "cell_type": "code",
   "execution_count": null,
   "id": "43d35a58-c73c-4a4b-87b8-ba79ea1c0ada",
   "metadata": {},
   "outputs": [],
   "source": [
    "# Create a new Data Frame with the World Happiness Report data\n",
    "world_happiness_data = pd.DataFrame(data, index = None)"
   ]
  },
  {
   "cell_type": "code",
   "execution_count": null,
   "id": "2f84b1ba-6ffe-4197-9693-c38a266fec4d",
   "metadata": {},
   "outputs": [],
   "source": []
  }
 ],
 "metadata": {
  "kernelspec": {
   "display_name": "Python 3 (ipykernel)",
   "language": "python",
   "name": "python3"
  },
  "language_info": {
   "codemirror_mode": {
    "name": "ipython",
    "version": 3
   },
   "file_extension": ".py",
   "mimetype": "text/x-python",
   "name": "python",
   "nbconvert_exporter": "python",
   "pygments_lexer": "ipython3",
   "version": "3.11.4"
  }
 },
 "nbformat": 4,
 "nbformat_minor": 5
}
